{
 "cells": [
  {
   "cell_type": "code",
   "execution_count": 1,
   "metadata": {},
   "outputs": [
    {
     "name": "stdout",
     "output_type": "stream",
     "text": [
      "Hit:1 http://deb.debian.org/debian bullseye InRelease  \u001b[0m\n",
      "Get:2 http://deb.debian.org/debian-security bullseye-security InRelease [48.4 kB]\n",
      "Get:3 http://deb.debian.org/debian bullseye-updates InRelease [44.1 kB]        \u001b[0m\u001b[33m\u001b[33m\n",
      "Hit:4 https://dl.yarnpkg.com/debian stable InRelease   \u001b[0m\n",
      "Get:5 http://deb.debian.org/debian-security bullseye-security/main amd64 Packages [245 kB]\n",
      "Get:6 http://deb.debian.org/debian bullseye-updates/main amd64 Packages.diff/Index [20.7 kB]\n",
      "Get:7 http://deb.debian.org/debian bullseye-updates/main amd64 Packages T-2023-08-26-1408.20-F-2023-08-26-1408.20.pdiff [464 B]\n",
      "Get:7 http://deb.debian.org/debian bullseye-updates/main amd64 Packages T-2023-08-26-1408.20-F-2023-08-26-1408.20.pdiff [464 B]\n",
      "Fetched 358 kB in 2s (232 kB/s)33m\n",
      "Reading package lists... Done\n",
      "Building dependency tree... Done\n",
      "Reading state information... Done\n",
      "6 packages can be upgraded. Run 'apt list --upgradable' to see them.\n"
     ]
    }
   ],
   "source": [
    "! sudo apt update -y && sudo apt-get install -y poppler-utils -qq"
   ]
  },
  {
   "cell_type": "code",
   "execution_count": 2,
   "metadata": {},
   "outputs": [],
   "source": [
    "! pip install pdf2image fpdf2 datasets --quiet\n"
   ]
  },
  {
   "cell_type": "code",
   "execution_count": 5,
   "metadata": {},
   "outputs": [],
   "source": [
    "import datasets\n",
    "from pdf2image import convert_from_bytes\n",
    "from fpdf import FPDF\n",
    "from io import BytesIO\n",
    "from PIL import Image\n",
    "import os\n",
    "import json\n",
    "import pandas as pd\n",
    "SELECT_RANGE = 10\n",
    "DATASET = \"cc_news\""
   ]
  },
  {
   "cell_type": "code",
   "execution_count": 7,
   "metadata": {},
   "outputs": [],
   "source": [
    "class SimpleDoc(FPDF):\n",
    "    def __init__(self) -> None:\n",
    "        super().__init__()\n",
    "        self.ch = 8\n",
    "        return\n",
    "\n",
    "    def header(self) -> None:\n",
    "        return\n",
    "\n",
    "    def footer(self) -> None:\n",
    "        return\n",
    "    \n",
    "    def body(self, text: str) -> None:\n",
    "        ch = self.ch\n",
    "        text = text.encode(\"UTF-8\")\n",
    "        self.add_page()\n",
    "        self.set_font('Arial', 'B', 8)\n",
    "        self.multi_cell(0, 5, text.decode(\"Latin-1\"))\n",
    "        # Line break\n",
    "        self.ln()"
   ]
  },
  {
   "cell_type": "code",
   "execution_count": 8,
   "metadata": {},
   "outputs": [],
   "source": [
    "doc_set = (\n",
    "    datasets.load_dataset(DATASET)[\"train\"]\n",
    "    .shuffle()\n",
    "    .select(range(SELECT_RANGE))\n",
    "    .select_columns([\"text\"])\n",
    ").to_pandas()\n"
   ]
  },
  {
   "cell_type": "code",
   "execution_count": 9,
   "metadata": {},
   "outputs": [
    {
     "name": "stderr",
     "output_type": "stream",
     "text": [
      "/tmp/ipykernel_401735/233455760.py:17: UserWarning: Substituting font arial by core font helvetica\n",
      "  self.set_font('Arial', 'B', 8)\n",
      "/tmp/ipykernel_401735/4256289548.py:5: DeprecationWarning: \"dest\" parameter is deprecated, unused and will soon be removed\n",
      "  stream = BytesIO(doc.output(dest=\"S\"))\n",
      "/tmp/ipykernel_401735/233455760.py:17: UserWarning: Substituting font arial by core font helvetica\n",
      "  self.set_font('Arial', 'B', 8)\n",
      "/tmp/ipykernel_401735/4256289548.py:5: DeprecationWarning: \"dest\" parameter is deprecated, unused and will soon be removed\n",
      "  stream = BytesIO(doc.output(dest=\"S\"))\n",
      "/tmp/ipykernel_401735/233455760.py:17: UserWarning: Substituting font arial by core font helvetica\n",
      "  self.set_font('Arial', 'B', 8)\n",
      "/tmp/ipykernel_401735/4256289548.py:5: DeprecationWarning: \"dest\" parameter is deprecated, unused and will soon be removed\n",
      "  stream = BytesIO(doc.output(dest=\"S\"))\n",
      "/tmp/ipykernel_401735/233455760.py:17: UserWarning: Substituting font arial by core font helvetica\n",
      "  self.set_font('Arial', 'B', 8)\n",
      "/tmp/ipykernel_401735/4256289548.py:5: DeprecationWarning: \"dest\" parameter is deprecated, unused and will soon be removed\n",
      "  stream = BytesIO(doc.output(dest=\"S\"))\n",
      "/tmp/ipykernel_401735/233455760.py:17: UserWarning: Substituting font arial by core font helvetica\n",
      "  self.set_font('Arial', 'B', 8)\n",
      "/tmp/ipykernel_401735/4256289548.py:5: DeprecationWarning: \"dest\" parameter is deprecated, unused and will soon be removed\n",
      "  stream = BytesIO(doc.output(dest=\"S\"))\n",
      "/tmp/ipykernel_401735/233455760.py:17: UserWarning: Substituting font arial by core font helvetica\n",
      "  self.set_font('Arial', 'B', 8)\n",
      "/tmp/ipykernel_401735/4256289548.py:5: DeprecationWarning: \"dest\" parameter is deprecated, unused and will soon be removed\n",
      "  stream = BytesIO(doc.output(dest=\"S\"))\n",
      "/tmp/ipykernel_401735/233455760.py:17: UserWarning: Substituting font arial by core font helvetica\n",
      "  self.set_font('Arial', 'B', 8)\n",
      "/tmp/ipykernel_401735/4256289548.py:5: DeprecationWarning: \"dest\" parameter is deprecated, unused and will soon be removed\n",
      "  stream = BytesIO(doc.output(dest=\"S\"))\n",
      "/tmp/ipykernel_401735/233455760.py:17: UserWarning: Substituting font arial by core font helvetica\n",
      "  self.set_font('Arial', 'B', 8)\n",
      "/tmp/ipykernel_401735/4256289548.py:5: DeprecationWarning: \"dest\" parameter is deprecated, unused and will soon be removed\n",
      "  stream = BytesIO(doc.output(dest=\"S\"))\n",
      "/tmp/ipykernel_401735/233455760.py:17: UserWarning: Substituting font arial by core font helvetica\n",
      "  self.set_font('Arial', 'B', 8)\n",
      "/tmp/ipykernel_401735/4256289548.py:5: DeprecationWarning: \"dest\" parameter is deprecated, unused and will soon be removed\n",
      "  stream = BytesIO(doc.output(dest=\"S\"))\n",
      "/tmp/ipykernel_401735/233455760.py:17: UserWarning: Substituting font arial by core font helvetica\n",
      "  self.set_font('Arial', 'B', 8)\n",
      "/tmp/ipykernel_401735/4256289548.py:5: DeprecationWarning: \"dest\" parameter is deprecated, unused and will soon be removed\n",
      "  stream = BytesIO(doc.output(dest=\"S\"))\n"
     ]
    }
   ],
   "source": [
    "metadata = []\n",
    "for i, row in enumerate(doc_set.itertuples()):\n",
    "    doc = SimpleDoc()\n",
    "    doc.body(text=row.text)\n",
    "    stream = BytesIO(doc.output(dest=\"S\"))\n",
    "    stream.seek(0)\n",
    "    base_dir = \"/tmp/cc_news_images\"\n",
    "    if not os.path.exists(base_dir):\n",
    "        os.mkdir(base_dir)\n",
    "    for j, image in enumerate(convert_from_bytes(stream.read(), 200)):\n",
    "        filename = f\"{base_dir}/doc_{i}-{j}.png\"\n",
    "        record = dict(file_name=f\"doc_{i}-{j}.png\", text=row.text)\n",
    "        metadata.append(record)\n",
    "        image.save(filename)\n",
    "    del(doc)\n",
    "    del(stream)"
   ]
  },
  {
   "cell_type": "code",
   "execution_count": 10,
   "metadata": {},
   "outputs": [],
   "source": [
    "pd.DataFrame(metadata).to_csv(f\"{base_dir}/metadata.csv\", index=False)"
   ]
  },
  {
   "cell_type": "code",
   "execution_count": 11,
   "metadata": {},
   "outputs": [],
   "source": [
    "# dt = datasets.load_dataset(\"imagefolder\", data_dir=\"/tmp/cc_news_images/\")"
   ]
  },
  {
   "cell_type": "code",
   "execution_count": 12,
   "metadata": {},
   "outputs": [],
   "source": [
    "# dt.push_to_hub(\"lowem1/cc_news_images\")"
   ]
  },
  {
   "cell_type": "code",
   "execution_count": null,
   "metadata": {},
   "outputs": [],
   "source": []
  }
 ],
 "metadata": {
  "kernelspec": {
   "display_name": ".venv",
   "language": "python",
   "name": "python3"
  },
  "language_info": {
   "codemirror_mode": {
    "name": "ipython",
    "version": 3
   },
   "file_extension": ".py",
   "mimetype": "text/x-python",
   "name": "python",
   "nbconvert_exporter": "python",
   "pygments_lexer": "ipython3",
   "version": "3.10.12"
  },
  "orig_nbformat": 4
 },
 "nbformat": 4,
 "nbformat_minor": 2
}

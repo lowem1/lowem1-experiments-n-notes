{
 "cells": [
  {
   "cell_type": "code",
   "execution_count": 1,
   "metadata": {},
   "outputs": [
    {
     "name": "stdout",
     "output_type": "stream",
     "text": [
      "Hit:1 http://deb.debian.org/debian bullseye InRelease  \u001b[0m\n",
      "Get:2 http://deb.debian.org/debian-security bullseye-security InRelease [48.4 kB]\n",
      "Get:3 http://deb.debian.org/debian bullseye-updates InRelease [44.1 kB]        \u001b[0m\u001b[33m\u001b[33m\n",
      "Hit:4 https://dl.yarnpkg.com/debian stable InRelease   \u001b[0m\n",
      "Get:5 http://deb.debian.org/debian-security bullseye-security/main amd64 Packages [245 kB]\n",
      "Get:6 http://deb.debian.org/debian bullseye-updates/main amd64 Packages.diff/Index [20.7 kB]\n",
      "Get:7 http://deb.debian.org/debian bullseye-updates/main amd64 Packages T-2023-08-26-1408.20-F-2023-08-26-1408.20.pdiff [464 B]\n",
      "Get:7 http://deb.debian.org/debian bullseye-updates/main amd64 Packages T-2023-08-26-1408.20-F-2023-08-26-1408.20.pdiff [464 B]\n",
      "Fetched 358 kB in 2s (232 kB/s)33m\n",
      "Reading package lists... Done\n",
      "Building dependency tree... Done\n",
      "Reading state information... Done\n",
      "6 packages can be upgraded. Run 'apt list --upgradable' to see them.\n"
     ]
    }
   ],
   "source": [
    "! sudo apt update -y && sudo apt-get install -y poppler-utils -qq"
   ]
  },
  {
   "cell_type": "code",
   "execution_count": 2,
   "metadata": {},
   "outputs": [],
   "source": [
    "! pip install pdf2image fpdf2 datasets --quiet\n"
   ]
  },
  {
   "cell_type": "code",
   "execution_count": 5,
   "metadata": {},
   "outputs": [],
   "source": [
    "import datasets\n",
    "from pdf2image import convert_from_bytes\n",
    "from fpdf import FPDF\n",
    "from io import BytesIO\n",
    "from PIL import Image\n",
    "import os\n",
    "import json\n",
    "import pandas as pd\n",
    "SELECT_RANGE = 10\n",
    "DATASET = \"cc_news\""
   ]
  },
  {
   "cell_type": "code",
   "execution_count": 7,
   "metadata": {},
   "outputs": [],
   "source": [
    "class SimpleDoc(FPDF):\n",
    "    def __init__(self) -> None:\n",
    "        super().__init__()\n",
    "        self.ch = 8\n",
    "        return\n",
    "\n",
    "    def header(self) -> None:\n",
    "        return\n",
    "\n",
    "    def footer(self) -> None:\n",
    "        return\n",
    "    \n",
    "    def body(self, text: str) -> None:\n",
    "        ch = self.ch\n",
    "        text = text.encode(\"UTF-8\")\n",
    "        self.add_page()\n",
    "        self.set_font('Arial', 'B', 8)\n",
    "        self.multi_cell(0, 5, text.decode(\"Latin-1\"))\n",
    "        # Line break\n",
    "        self.ln()"
   ]
  },
  {
   "cell_type": "code",
   "execution_count": 8,
   "metadata": {},
   "outputs": [],
   "source": [
    "doc_set = (\n",
    "    datasets.load_dataset(DATASET)[\"train\"]\n",
    "    .shuffle()\n",
    "    .select(range(SELECT_RANGE))\n",
    "    .select_columns([\"text\"])\n",
    ").to_pandas()\n"
   ]
  },
  {
   "cell_type": "code",
   "execution_count": 9,
   "metadata": {},
   "outputs": [
    {
     "name": "stderr",
     "output_type": "stream",
     "text": [
      "/tmp/ipykernel_401735/233455760.py:17: UserWarning: Substituting font arial by core font helvetica\n",
      "  self.set_font('Arial', 'B', 8)\n",
      "/tmp/ipykernel_401735/4256289548.py:5: DeprecationWarning: \"dest\" parameter is deprecated, unused and will soon be removed\n",
      "  stream = BytesIO(doc.output(dest=\"S\"))\n",
      "/tmp/ipykernel_401735/233455760.py:17: UserWarning: Substituting font arial by core font helvetica\n",
      "  self.set_font('Arial', 'B', 8)\n",
      "/tmp/ipykernel_401735/4256289548.py:5: DeprecationWarning: \"dest\" parameter is deprecated, unused and will soon be removed\n",
      "  stream = BytesIO(doc.output(dest=\"S\"))\n",
      "/tmp/ipykernel_401735/233455760.py:17: UserWarning: Substituting font arial by core font helvetica\n",
      "  self.set_font('Arial', 'B', 8)\n",
      "/tmp/ipykernel_401735/4256289548.py:5: DeprecationWarning: \"dest\" parameter is deprecated, unused and will soon be removed\n",
      "  stream = BytesIO(doc.output(dest=\"S\"))\n",
      "/tmp/ipykernel_401735/233455760.py:17: UserWarning: Substituting font arial by core font helvetica\n",
      "  self.set_font('Arial', 'B', 8)\n",
      "/tmp/ipykernel_401735/4256289548.py:5: DeprecationWarning: \"dest\" parameter is deprecated, unused and will soon be removed\n",
      "  stream = BytesIO(doc.output(dest=\"S\"))\n",
      "/tmp/ipykernel_401735/233455760.py:17: UserWarning: Substituting font arial by core font helvetica\n",
      "  self.set_font('Arial', 'B', 8)\n",
      "/tmp/ipykernel_401735/4256289548.py:5: DeprecationWarning: \"dest\" parameter is deprecated, unused and will soon be removed\n",
      "  stream = BytesIO(doc.output(dest=\"S\"))\n",
      "/tmp/ipykernel_401735/233455760.py:17: UserWarning: Substituting font arial by core font helvetica\n",
      "  self.set_font('Arial', 'B', 8)\n",
      "/tmp/ipykernel_401735/4256289548.py:5: DeprecationWarning: \"dest\" parameter is deprecated, unused and will soon be removed\n",
      "  stream = BytesIO(doc.output(dest=\"S\"))\n",
      "/tmp/ipykernel_401735/233455760.py:17: UserWarning: Substituting font arial by core font helvetica\n",
      "  self.set_font('Arial', 'B', 8)\n",
      "/tmp/ipykernel_401735/4256289548.py:5: DeprecationWarning: \"dest\" parameter is deprecated, unused and will soon be removed\n",
      "  stream = BytesIO(doc.output(dest=\"S\"))\n",
      "/tmp/ipykernel_401735/233455760.py:17: UserWarning: Substituting font arial by core font helvetica\n",
      "  self.set_font('Arial', 'B', 8)\n",
      "/tmp/ipykernel_401735/4256289548.py:5: DeprecationWarning: \"dest\" parameter is deprecated, unused and will soon be removed\n",
      "  stream = BytesIO(doc.output(dest=\"S\"))\n",
      "/tmp/ipykernel_401735/233455760.py:17: UserWarning: Substituting font arial by core font helvetica\n",
      "  self.set_font('Arial', 'B', 8)\n",
      "/tmp/ipykernel_401735/4256289548.py:5: DeprecationWarning: \"dest\" parameter is deprecated, unused and will soon be removed\n",
      "  stream = BytesIO(doc.output(dest=\"S\"))\n",
      "/tmp/ipykernel_401735/233455760.py:17: UserWarning: Substituting font arial by core font helvetica\n",
      "  self.set_font('Arial', 'B', 8)\n",
      "/tmp/ipykernel_401735/4256289548.py:5: DeprecationWarning: \"dest\" parameter is deprecated, unused and will soon be removed\n",
      "  stream = BytesIO(doc.output(dest=\"S\"))\n"
     ]
    }
   ],
   "source": [
    "metadata = []\n",
    "for i, row in enumerate(doc_set.itertuples()):\n",
    "    doc = SimpleDoc()\n",
    "    doc.body(text=row.text)\n",
    "    stream = BytesIO(doc.output(dest=\"S\"))\n",
    "    stream.seek(0)\n",
    "    base_dir = \"/tmp/cc_news_images\"\n",
    "    if not os.path.exists(base_dir):\n",
    "        os.mkdir(base_dir)\n",
    "    for j, image in enumerate(convert_from_bytes(stream.read(), 200)):\n",
    "        filename = f\"{base_dir}/doc_{i}-{j}.png\"\n",
    "        record = dict(file_name=f\"doc_{i}-{j}.png\", text=row.text)\n",
    "        metadata.append(record)\n",
    "        image.save(filename)\n",
    "    del(doc)\n",
    "    del(stream)"
   ]
  },
  {
   "cell_type": "code",
   "execution_count": 10,
   "metadata": {},
   "outputs": [],
   "source": [
    "pd.DataFrame(metadata).to_csv(f\"{base_dir}/metadata.csv\", index=False)"
   ]
  },
  {
   "cell_type": "code",
   "execution_count": 13,
   "metadata": {},
   "outputs": [
    {
     "name": "stderr",
     "output_type": "stream",
     "text": [
      "Resolving data files: 100%|██████████| 258/258 [00:00<00:00, 573162.31it/s]\n",
      "Downloading data files: 100%|██████████| 258/258 [00:00<00:00, 134878.53it/s]\n",
      "Downloading data files: 0it [00:00, ?it/s]\n",
      "Extracting data files: 0it [00:00, ?it/s]\n",
      "Generating train split: 2 examples [00:00, 599.40 examples/s]\n"
     ]
    },
    {
     "ename": "DatasetGenerationError",
     "evalue": "An error occurred while generating the dataset",
     "output_type": "error",
     "traceback": [
      "\u001b[0;31m---------------------------------------------------------------------------\u001b[0m",
      "\u001b[0;31mValueError\u001b[0m                                Traceback (most recent call last)",
      "File \u001b[0;32m/workspaces/lowem1-experiments-n-notes/.venv/lib/python3.10/site-packages/datasets/builder.py:1676\u001b[0m, in \u001b[0;36mGeneratorBasedBuilder._prepare_split_single\u001b[0;34m(self, gen_kwargs, fpath, file_format, max_shard_size, split_info, check_duplicate_keys, job_id)\u001b[0m\n\u001b[1;32m   1675\u001b[0m _time \u001b[39m=\u001b[39m time\u001b[39m.\u001b[39mtime()\n\u001b[0;32m-> 1676\u001b[0m \u001b[39mfor\u001b[39;00m key, record \u001b[39min\u001b[39;00m generator:\n\u001b[1;32m   1677\u001b[0m     \u001b[39mif\u001b[39;00m max_shard_size \u001b[39mis\u001b[39;00m \u001b[39mnot\u001b[39;00m \u001b[39mNone\u001b[39;00m \u001b[39mand\u001b[39;00m writer\u001b[39m.\u001b[39m_num_bytes \u001b[39m>\u001b[39m max_shard_size:\n",
      "File \u001b[0;32m/workspaces/lowem1-experiments-n-notes/.venv/lib/python3.10/site-packages/datasets/packaged_modules/folder_based_builder/folder_based_builder.py:311\u001b[0m, in \u001b[0;36mFolderBasedBuilder._generate_examples\u001b[0;34m(self, files, metadata_files, split_name, add_metadata, add_labels)\u001b[0m\n\u001b[1;32m    310\u001b[0m \u001b[39mif\u001b[39;00m file_relpath \u001b[39mnot\u001b[39;00m \u001b[39min\u001b[39;00m metadata_dict:\n\u001b[0;32m--> 311\u001b[0m     \u001b[39mraise\u001b[39;00m \u001b[39mValueError\u001b[39;00m(\n\u001b[1;32m    312\u001b[0m         \u001b[39mf\u001b[39m\u001b[39m\"\u001b[39m\u001b[39m{\u001b[39;00m\u001b[39mself\u001b[39m\u001b[39m.\u001b[39mBASE_COLUMN_NAME\u001b[39m}\u001b[39;00m\u001b[39m at \u001b[39m\u001b[39m{\u001b[39;00mfile_relpath\u001b[39m}\u001b[39;00m\u001b[39m doesn\u001b[39m\u001b[39m'\u001b[39m\u001b[39mt have metadata in \u001b[39m\u001b[39m{\u001b[39;00mdownloaded_metadata_file\u001b[39m}\u001b[39;00m\u001b[39m.\u001b[39m\u001b[39m\"\u001b[39m\n\u001b[1;32m    313\u001b[0m     )\n\u001b[1;32m    314\u001b[0m sample_metadata \u001b[39m=\u001b[39m metadata_dict[file_relpath]\n",
      "\u001b[0;31mValueError\u001b[0m: image at doc_10-0.png doesn't have metadata in /tmp/cc_news_images/metadata.csv.",
      "\nThe above exception was the direct cause of the following exception:\n",
      "\u001b[0;31mDatasetGenerationError\u001b[0m                    Traceback (most recent call last)",
      "Cell \u001b[0;32mIn[13], line 1\u001b[0m\n\u001b[0;32m----> 1\u001b[0m dt_sample \u001b[39m=\u001b[39m datasets\u001b[39m.\u001b[39;49mload_dataset(\u001b[39m\"\u001b[39;49m\u001b[39mimagefolder\u001b[39;49m\u001b[39m\"\u001b[39;49m, data_dir\u001b[39m=\u001b[39;49m\u001b[39m\"\u001b[39;49m\u001b[39m/tmp/cc_news_images/\u001b[39;49m\u001b[39m\"\u001b[39;49m, split\u001b[39m=\u001b[39;49m\u001b[39m\"\u001b[39;49m\u001b[39mtrain[:20\u001b[39;49m\u001b[39m%\u001b[39;49m\u001b[39m]\u001b[39;49m\u001b[39m\"\u001b[39;49m)\n\u001b[1;32m      2\u001b[0m dt_train \u001b[39m=\u001b[39m datasets\u001b[39m.\u001b[39mload_dataset(\u001b[39m\"\u001b[39m\u001b[39mimagefolder\u001b[39m\u001b[39m\"\u001b[39m, data_dir\u001b[39m=\u001b[39m\u001b[39m\"\u001b[39m\u001b[39m/tmp/cc_news_images/\u001b[39m\u001b[39m\"\u001b[39m, split\u001b[39m=\u001b[39m\u001b[39m\"\u001b[39m\u001b[39mtrain[:70\u001b[39m\u001b[39m%\u001b[39m\u001b[39m]\u001b[39m\u001b[39m\"\u001b[39m)\n\u001b[1;32m      3\u001b[0m dt_test \u001b[39m=\u001b[39m datasets\u001b[39m.\u001b[39mload_dataset(\u001b[39m\"\u001b[39m\u001b[39mimagefolder\u001b[39m\u001b[39m\"\u001b[39m, data_dir\u001b[39m=\u001b[39m\u001b[39m\"\u001b[39m\u001b[39m/tmp/cc_news_images/\u001b[39m\u001b[39m\"\u001b[39m, split\u001b[39m=\u001b[39m\u001b[39m\"\u001b[39m\u001b[39mtrain[70\u001b[39m\u001b[39m%\u001b[39m\u001b[39m:]\u001b[39m\u001b[39m\"\u001b[39m)\n",
      "File \u001b[0;32m/workspaces/lowem1-experiments-n-notes/.venv/lib/python3.10/site-packages/datasets/load.py:2136\u001b[0m, in \u001b[0;36mload_dataset\u001b[0;34m(path, name, data_dir, data_files, split, cache_dir, features, download_config, download_mode, verification_mode, ignore_verifications, keep_in_memory, save_infos, revision, token, use_auth_token, task, streaming, num_proc, storage_options, **config_kwargs)\u001b[0m\n\u001b[1;32m   2133\u001b[0m try_from_hf_gcs \u001b[39m=\u001b[39m path \u001b[39mnot\u001b[39;00m \u001b[39min\u001b[39;00m _PACKAGED_DATASETS_MODULES\n\u001b[1;32m   2135\u001b[0m \u001b[39m# Download and prepare data\u001b[39;00m\n\u001b[0;32m-> 2136\u001b[0m builder_instance\u001b[39m.\u001b[39;49mdownload_and_prepare(\n\u001b[1;32m   2137\u001b[0m     download_config\u001b[39m=\u001b[39;49mdownload_config,\n\u001b[1;32m   2138\u001b[0m     download_mode\u001b[39m=\u001b[39;49mdownload_mode,\n\u001b[1;32m   2139\u001b[0m     verification_mode\u001b[39m=\u001b[39;49mverification_mode,\n\u001b[1;32m   2140\u001b[0m     try_from_hf_gcs\u001b[39m=\u001b[39;49mtry_from_hf_gcs,\n\u001b[1;32m   2141\u001b[0m     num_proc\u001b[39m=\u001b[39;49mnum_proc,\n\u001b[1;32m   2142\u001b[0m     storage_options\u001b[39m=\u001b[39;49mstorage_options,\n\u001b[1;32m   2143\u001b[0m )\n\u001b[1;32m   2145\u001b[0m \u001b[39m# Build dataset for splits\u001b[39;00m\n\u001b[1;32m   2146\u001b[0m keep_in_memory \u001b[39m=\u001b[39m (\n\u001b[1;32m   2147\u001b[0m     keep_in_memory \u001b[39mif\u001b[39;00m keep_in_memory \u001b[39mis\u001b[39;00m \u001b[39mnot\u001b[39;00m \u001b[39mNone\u001b[39;00m \u001b[39melse\u001b[39;00m is_small_dataset(builder_instance\u001b[39m.\u001b[39minfo\u001b[39m.\u001b[39mdataset_size)\n\u001b[1;32m   2148\u001b[0m )\n",
      "File \u001b[0;32m/workspaces/lowem1-experiments-n-notes/.venv/lib/python3.10/site-packages/datasets/builder.py:954\u001b[0m, in \u001b[0;36mDatasetBuilder.download_and_prepare\u001b[0;34m(self, output_dir, download_config, download_mode, verification_mode, ignore_verifications, try_from_hf_gcs, dl_manager, base_path, use_auth_token, file_format, max_shard_size, num_proc, storage_options, **download_and_prepare_kwargs)\u001b[0m\n\u001b[1;32m    952\u001b[0m     \u001b[39mif\u001b[39;00m num_proc \u001b[39mis\u001b[39;00m \u001b[39mnot\u001b[39;00m \u001b[39mNone\u001b[39;00m:\n\u001b[1;32m    953\u001b[0m         prepare_split_kwargs[\u001b[39m\"\u001b[39m\u001b[39mnum_proc\u001b[39m\u001b[39m\"\u001b[39m] \u001b[39m=\u001b[39m num_proc\n\u001b[0;32m--> 954\u001b[0m     \u001b[39mself\u001b[39;49m\u001b[39m.\u001b[39;49m_download_and_prepare(\n\u001b[1;32m    955\u001b[0m         dl_manager\u001b[39m=\u001b[39;49mdl_manager,\n\u001b[1;32m    956\u001b[0m         verification_mode\u001b[39m=\u001b[39;49mverification_mode,\n\u001b[1;32m    957\u001b[0m         \u001b[39m*\u001b[39;49m\u001b[39m*\u001b[39;49mprepare_split_kwargs,\n\u001b[1;32m    958\u001b[0m         \u001b[39m*\u001b[39;49m\u001b[39m*\u001b[39;49mdownload_and_prepare_kwargs,\n\u001b[1;32m    959\u001b[0m     )\n\u001b[1;32m    960\u001b[0m \u001b[39m# Sync info\u001b[39;00m\n\u001b[1;32m    961\u001b[0m \u001b[39mself\u001b[39m\u001b[39m.\u001b[39minfo\u001b[39m.\u001b[39mdataset_size \u001b[39m=\u001b[39m \u001b[39msum\u001b[39m(split\u001b[39m.\u001b[39mnum_bytes \u001b[39mfor\u001b[39;00m split \u001b[39min\u001b[39;00m \u001b[39mself\u001b[39m\u001b[39m.\u001b[39minfo\u001b[39m.\u001b[39msplits\u001b[39m.\u001b[39mvalues())\n",
      "File \u001b[0;32m/workspaces/lowem1-experiments-n-notes/.venv/lib/python3.10/site-packages/datasets/builder.py:1717\u001b[0m, in \u001b[0;36mGeneratorBasedBuilder._download_and_prepare\u001b[0;34m(self, dl_manager, verification_mode, **prepare_splits_kwargs)\u001b[0m\n\u001b[1;32m   1716\u001b[0m \u001b[39mdef\u001b[39;00m \u001b[39m_download_and_prepare\u001b[39m(\u001b[39mself\u001b[39m, dl_manager, verification_mode, \u001b[39m*\u001b[39m\u001b[39m*\u001b[39mprepare_splits_kwargs):\n\u001b[0;32m-> 1717\u001b[0m     \u001b[39msuper\u001b[39;49m()\u001b[39m.\u001b[39;49m_download_and_prepare(\n\u001b[1;32m   1718\u001b[0m         dl_manager,\n\u001b[1;32m   1719\u001b[0m         verification_mode,\n\u001b[1;32m   1720\u001b[0m         check_duplicate_keys\u001b[39m=\u001b[39;49mverification_mode \u001b[39m==\u001b[39;49m VerificationMode\u001b[39m.\u001b[39;49mBASIC_CHECKS\n\u001b[1;32m   1721\u001b[0m         \u001b[39mor\u001b[39;49;00m verification_mode \u001b[39m==\u001b[39;49m VerificationMode\u001b[39m.\u001b[39;49mALL_CHECKS,\n\u001b[1;32m   1722\u001b[0m         \u001b[39m*\u001b[39;49m\u001b[39m*\u001b[39;49mprepare_splits_kwargs,\n\u001b[1;32m   1723\u001b[0m     )\n",
      "File \u001b[0;32m/workspaces/lowem1-experiments-n-notes/.venv/lib/python3.10/site-packages/datasets/builder.py:1049\u001b[0m, in \u001b[0;36mDatasetBuilder._download_and_prepare\u001b[0;34m(self, dl_manager, verification_mode, **prepare_split_kwargs)\u001b[0m\n\u001b[1;32m   1045\u001b[0m split_dict\u001b[39m.\u001b[39madd(split_generator\u001b[39m.\u001b[39msplit_info)\n\u001b[1;32m   1047\u001b[0m \u001b[39mtry\u001b[39;00m:\n\u001b[1;32m   1048\u001b[0m     \u001b[39m# Prepare split will record examples associated to the split\u001b[39;00m\n\u001b[0;32m-> 1049\u001b[0m     \u001b[39mself\u001b[39;49m\u001b[39m.\u001b[39;49m_prepare_split(split_generator, \u001b[39m*\u001b[39;49m\u001b[39m*\u001b[39;49mprepare_split_kwargs)\n\u001b[1;32m   1050\u001b[0m \u001b[39mexcept\u001b[39;00m \u001b[39mOSError\u001b[39;00m \u001b[39mas\u001b[39;00m e:\n\u001b[1;32m   1051\u001b[0m     \u001b[39mraise\u001b[39;00m \u001b[39mOSError\u001b[39;00m(\n\u001b[1;32m   1052\u001b[0m         \u001b[39m\"\u001b[39m\u001b[39mCannot find data file. \u001b[39m\u001b[39m\"\u001b[39m\n\u001b[1;32m   1053\u001b[0m         \u001b[39m+\u001b[39m (\u001b[39mself\u001b[39m\u001b[39m.\u001b[39mmanual_download_instructions \u001b[39mor\u001b[39;00m \u001b[39m\"\u001b[39m\u001b[39m\"\u001b[39m)\n\u001b[1;32m   1054\u001b[0m         \u001b[39m+\u001b[39m \u001b[39m\"\u001b[39m\u001b[39m\\n\u001b[39;00m\u001b[39mOriginal error:\u001b[39m\u001b[39m\\n\u001b[39;00m\u001b[39m\"\u001b[39m\n\u001b[1;32m   1055\u001b[0m         \u001b[39m+\u001b[39m \u001b[39mstr\u001b[39m(e)\n\u001b[1;32m   1056\u001b[0m     ) \u001b[39mfrom\u001b[39;00m \u001b[39mNone\u001b[39;00m\n",
      "File \u001b[0;32m/workspaces/lowem1-experiments-n-notes/.venv/lib/python3.10/site-packages/datasets/builder.py:1555\u001b[0m, in \u001b[0;36mGeneratorBasedBuilder._prepare_split\u001b[0;34m(self, split_generator, check_duplicate_keys, file_format, num_proc, max_shard_size)\u001b[0m\n\u001b[1;32m   1553\u001b[0m job_id \u001b[39m=\u001b[39m \u001b[39m0\u001b[39m\n\u001b[1;32m   1554\u001b[0m \u001b[39mwith\u001b[39;00m pbar:\n\u001b[0;32m-> 1555\u001b[0m     \u001b[39mfor\u001b[39;00m job_id, done, content \u001b[39min\u001b[39;00m \u001b[39mself\u001b[39m\u001b[39m.\u001b[39m_prepare_split_single(\n\u001b[1;32m   1556\u001b[0m         gen_kwargs\u001b[39m=\u001b[39mgen_kwargs, job_id\u001b[39m=\u001b[39mjob_id, \u001b[39m*\u001b[39m\u001b[39m*\u001b[39m_prepare_split_args\n\u001b[1;32m   1557\u001b[0m     ):\n\u001b[1;32m   1558\u001b[0m         \u001b[39mif\u001b[39;00m done:\n\u001b[1;32m   1559\u001b[0m             result \u001b[39m=\u001b[39m content\n",
      "File \u001b[0;32m/workspaces/lowem1-experiments-n-notes/.venv/lib/python3.10/site-packages/datasets/builder.py:1712\u001b[0m, in \u001b[0;36mGeneratorBasedBuilder._prepare_split_single\u001b[0;34m(self, gen_kwargs, fpath, file_format, max_shard_size, split_info, check_duplicate_keys, job_id)\u001b[0m\n\u001b[1;32m   1710\u001b[0m     \u001b[39mif\u001b[39;00m \u001b[39misinstance\u001b[39m(e, SchemaInferenceError) \u001b[39mand\u001b[39;00m e\u001b[39m.\u001b[39m__context__ \u001b[39mis\u001b[39;00m \u001b[39mnot\u001b[39;00m \u001b[39mNone\u001b[39;00m:\n\u001b[1;32m   1711\u001b[0m         e \u001b[39m=\u001b[39m e\u001b[39m.\u001b[39m__context__\n\u001b[0;32m-> 1712\u001b[0m     \u001b[39mraise\u001b[39;00m DatasetGenerationError(\u001b[39m\"\u001b[39m\u001b[39mAn error occurred while generating the dataset\u001b[39m\u001b[39m\"\u001b[39m) \u001b[39mfrom\u001b[39;00m \u001b[39me\u001b[39;00m\n\u001b[1;32m   1714\u001b[0m \u001b[39myield\u001b[39;00m job_id, \u001b[39mTrue\u001b[39;00m, (total_num_examples, total_num_bytes, writer\u001b[39m.\u001b[39m_features, num_shards, shard_lengths)\n",
      "\u001b[0;31mDatasetGenerationError\u001b[0m: An error occurred while generating the dataset"
     ]
    }
   ],
   "source": [
    "dt_sample = datasets.load_dataset(\"imagefolder\", data_dir=\"/tmp/cc_news_images/\", split=\"train[:20%]\")\n",
    "dt_train = datasets.load_dataset(\"imagefolder\", data_dir=\"/tmp/cc_news_images/\", split=\"train[:70%]\")\n",
    "dt_test = datasets.load_dataset(\"imagefolder\", data_dir=\"/tmp/cc_news_images/\", split=\"train[70%:]\")"
   ]
  },
  {
   "cell_type": "code",
   "execution_count": 14,
   "metadata": {},
   "outputs": [
    {
     "ename": "NameError",
     "evalue": "name 'dt_sample' is not defined",
     "output_type": "error",
     "traceback": [
      "\u001b[0;31m---------------------------------------------------------------------------\u001b[0m",
      "\u001b[0;31mNameError\u001b[0m                                 Traceback (most recent call last)",
      "Cell \u001b[0;32mIn[14], line 3\u001b[0m\n\u001b[1;32m      1\u001b[0m tbl \u001b[39m=\u001b[39m datasets\u001b[39m.\u001b[39mDatasetDict(\n\u001b[1;32m      2\u001b[0m     {\n\u001b[0;32m----> 3\u001b[0m         \u001b[39m\"\u001b[39m\u001b[39msample\u001b[39m\u001b[39m\"\u001b[39m: dt_sample,\n\u001b[1;32m      4\u001b[0m         \u001b[39m\"\u001b[39m\u001b[39mtrain\u001b[39m\u001b[39m\"\u001b[39m: dt_train,\n\u001b[1;32m      5\u001b[0m         \u001b[39m\"\u001b[39m\u001b[39mtest\u001b[39m\u001b[39m\"\u001b[39m: dt_test, \n\u001b[1;32m      6\u001b[0m     }\n\u001b[1;32m      7\u001b[0m )\n\u001b[1;32m      8\u001b[0m tbl\n",
      "\u001b[0;31mNameError\u001b[0m: name 'dt_sample' is not defined"
     ]
    }
   ],
   "source": [
    "tbl = datasets.DatasetDict(\n",
    "    {\n",
    "        \"sample\": dt_sample,\n",
    "        \"train\": dt_train,\n",
    "        \"test\": dt_test, \n",
    "    }\n",
    ")\n",
    "tbl"
   ]
  },
  {
   "cell_type": "code",
   "execution_count": 12,
   "metadata": {},
   "outputs": [],
   "source": [
    "# dt.push_to_hub(\"lowem1/cc_news_images\")"
   ]
  },
  {
   "cell_type": "code",
   "execution_count": null,
   "metadata": {},
   "outputs": [],
   "source": []
  }
 ],
 "metadata": {
  "kernelspec": {
   "display_name": ".venv",
   "language": "python",
   "name": "python3"
  },
  "language_info": {
   "codemirror_mode": {
    "name": "ipython",
    "version": 3
   },
   "file_extension": ".py",
   "mimetype": "text/x-python",
   "name": "python",
   "nbconvert_exporter": "python",
   "pygments_lexer": "ipython3",
   "version": "3.10.12"
  },
  "orig_nbformat": 4
 },
 "nbformat": 4,
 "nbformat_minor": 2
}
